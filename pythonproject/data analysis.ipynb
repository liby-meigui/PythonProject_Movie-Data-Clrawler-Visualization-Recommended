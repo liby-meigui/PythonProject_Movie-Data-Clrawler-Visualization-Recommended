{
 "cells": [
  {
   "cell_type": "code",
   "execution_count": 4,
   "id": "b3232248",
   "metadata": {},
   "outputs": [
    {
     "data": {
      "text/html": [
       "<div>\n",
       "<style scoped>\n",
       "    .dataframe tbody tr th:only-of-type {\n",
       "        vertical-align: middle;\n",
       "    }\n",
       "\n",
       "    .dataframe tbody tr th {\n",
       "        vertical-align: top;\n",
       "    }\n",
       "\n",
       "    .dataframe thead th {\n",
       "        text-align: right;\n",
       "    }\n",
       "</style>\n",
       "<table border=\"1\" class=\"dataframe\">\n",
       "  <thead>\n",
       "    <tr style=\"text-align: right;\">\n",
       "      <th></th>\n",
       "      <th>片名</th>\n",
       "      <th>上映年份</th>\n",
       "      <th>评分</th>\n",
       "      <th>评价人数</th>\n",
       "      <th>导演</th>\n",
       "      <th>编剧</th>\n",
       "      <th>主演</th>\n",
       "      <th>类型</th>\n",
       "      <th>国家/地区</th>\n",
       "      <th>语言</th>\n",
       "      <th>时长(分钟)</th>\n",
       "    </tr>\n",
       "  </thead>\n",
       "  <tbody>\n",
       "    <tr>\n",
       "      <th>0</th>\n",
       "      <td>肖申克的救赎</td>\n",
       "      <td>1994</td>\n",
       "      <td>9.7</td>\n",
       "      <td>3022383</td>\n",
       "      <td>弗兰克·德拉邦特</td>\n",
       "      <td>弗兰克·德拉邦特 / 斯蒂芬·金</td>\n",
       "      <td>蒂姆·罗宾斯 / 摩根·弗里曼 / 鲍勃·冈顿 / 威廉姆·赛德勒 / 克兰西·布朗 / 吉...</td>\n",
       "      <td>剧情 / 犯罪</td>\n",
       "      <td>美国</td>\n",
       "      <td>英语</td>\n",
       "      <td>142</td>\n",
       "    </tr>\n",
       "    <tr>\n",
       "      <th>1</th>\n",
       "      <td>霸王别姬</td>\n",
       "      <td>1993</td>\n",
       "      <td>9.6</td>\n",
       "      <td>2234061</td>\n",
       "      <td>陈凯歌</td>\n",
       "      <td>芦苇 / 李碧华</td>\n",
       "      <td>张国荣 / 张丰毅 / 巩俐 / 葛优 / 英达 / 蒋雯丽 / 吴大维 / 吕齐 / 雷汉...</td>\n",
       "      <td>剧情 / 爱情 / 同性</td>\n",
       "      <td>中国</td>\n",
       "      <td>汉语普通话</td>\n",
       "      <td>171</td>\n",
       "    </tr>\n",
       "    <tr>\n",
       "      <th>2</th>\n",
       "      <td>阿甘正传</td>\n",
       "      <td>1994</td>\n",
       "      <td>9.5</td>\n",
       "      <td>2251937</td>\n",
       "      <td>罗伯特·泽米吉斯</td>\n",
       "      <td>埃里克·罗思 / 温斯顿·格鲁姆</td>\n",
       "      <td>汤姆·汉克斯 / 罗宾·怀特 / 加里·西尼斯 / 麦凯尔泰·威廉逊 / 莎莉·菲尔德 / ...</td>\n",
       "      <td>剧情 / 爱情</td>\n",
       "      <td>美国</td>\n",
       "      <td>英语</td>\n",
       "      <td>142</td>\n",
       "    </tr>\n",
       "    <tr>\n",
       "      <th>3</th>\n",
       "      <td>泰坦尼克号</td>\n",
       "      <td>1997</td>\n",
       "      <td>9.5</td>\n",
       "      <td>2290884</td>\n",
       "      <td>詹姆斯·卡梅隆</td>\n",
       "      <td>詹姆斯·卡梅隆</td>\n",
       "      <td>莱昂纳多·迪卡普里奥 / 凯特·温斯莱特 / 比利·赞恩 / 凯西·贝茨 / 弗兰西丝·费舍...</td>\n",
       "      <td>剧情 / 爱情 / 灾难</td>\n",
       "      <td>美国</td>\n",
       "      <td>英语</td>\n",
       "      <td>194</td>\n",
       "    </tr>\n",
       "    <tr>\n",
       "      <th>4</th>\n",
       "      <td>千与千寻</td>\n",
       "      <td>2001</td>\n",
       "      <td>9.4</td>\n",
       "      <td>2339797</td>\n",
       "      <td>宫崎骏</td>\n",
       "      <td>宫崎骏</td>\n",
       "      <td>柊瑠美 / 入野自由 / 夏木真理 / 菅原文太 / 中村彰男 / 玉井夕海 / 神木隆之介...</td>\n",
       "      <td>剧情 / 动画 / 奇幻</td>\n",
       "      <td>日本</td>\n",
       "      <td>日语</td>\n",
       "      <td>125</td>\n",
       "    </tr>\n",
       "  </tbody>\n",
       "</table>\n",
       "</div>"
      ],
      "text/plain": [
       "       片名  上映年份   评分     评价人数        导演                编剧  \\\n",
       "0  肖申克的救赎  1994  9.7  3022383  弗兰克·德拉邦特  弗兰克·德拉邦特 / 斯蒂芬·金   \n",
       "1    霸王别姬  1993  9.6  2234061       陈凯歌          芦苇 / 李碧华   \n",
       "2    阿甘正传  1994  9.5  2251937  罗伯特·泽米吉斯  埃里克·罗思 / 温斯顿·格鲁姆   \n",
       "3   泰坦尼克号  1997  9.5  2290884   詹姆斯·卡梅隆           詹姆斯·卡梅隆   \n",
       "4    千与千寻  2001  9.4  2339797       宫崎骏               宫崎骏   \n",
       "\n",
       "                                                  主演            类型 国家/地区  \\\n",
       "0  蒂姆·罗宾斯 / 摩根·弗里曼 / 鲍勃·冈顿 / 威廉姆·赛德勒 / 克兰西·布朗 / 吉...       剧情 / 犯罪    美国   \n",
       "1  张国荣 / 张丰毅 / 巩俐 / 葛优 / 英达 / 蒋雯丽 / 吴大维 / 吕齐 / 雷汉...  剧情 / 爱情 / 同性    中国   \n",
       "2  汤姆·汉克斯 / 罗宾·怀特 / 加里·西尼斯 / 麦凯尔泰·威廉逊 / 莎莉·菲尔德 / ...       剧情 / 爱情    美国   \n",
       "3  莱昂纳多·迪卡普里奥 / 凯特·温斯莱特 / 比利·赞恩 / 凯西·贝茨 / 弗兰西丝·费舍...  剧情 / 爱情 / 灾难    美国   \n",
       "4  柊瑠美 / 入野自由 / 夏木真理 / 菅原文太 / 中村彰男 / 玉井夕海 / 神木隆之介...  剧情 / 动画 / 奇幻    日本   \n",
       "\n",
       "      语言  时长(分钟)  \n",
       "0     英语     142  \n",
       "1  汉语普通话     171  \n",
       "2     英语     142  \n",
       "3     英语     194  \n",
       "4     日语     125  "
      ]
     },
     "execution_count": 4,
     "metadata": {},
     "output_type": "execute_result"
    }
   ],
   "source": [
    "from matplotlib import pyplot as plt\n",
    "import pandas as pd\n",
    "\n",
    "\n",
    "\n",
    "df = pd.read_excel(\"Top250.xlsx\",index_col=False)\n",
    "df.head()\n"
   ]
  },
  {
   "cell_type": "code",
   "execution_count": 5,
   "id": "70a46a01",
   "metadata": {},
   "outputs": [],
   "source": [
    "year = []\n",
    "\n",
    "df[\"上映年份\"].value_counts()\n",
    "x1 = list(df[\"上映年份\"].value_counts().sort_index().index)\n",
    "y1 = list(df[\"上映年份\"].value_counts().sort_index().values)\n",
    "y1 = [str(i) for i in y1]\n"
   ]
  },
  {
   "cell_type": "code",
   "execution_count": 6,
   "id": "13f7dba6",
   "metadata": {},
   "outputs": [
    {
     "data": {
      "text/plain": [
       "'C:\\\\Users\\\\Administrator\\\\Downloads\\\\pythonproject\\\\上映年份.html'"
      ]
     },
     "execution_count": 6,
     "metadata": {},
     "output_type": "execute_result"
    }
   ],
   "source": [
    "# 上映年份分布\n",
    "from pyecharts import options as opts\n",
    "from pyecharts.charts import Bar\n",
    "from pyecharts.faker import Faker\n",
    "c1 = (\n",
    "    Bar()\n",
    "    .add_xaxis(x1)\n",
    "    .add_yaxis(\"影片数量\", y1)\n",
    "    .set_global_opts(\n",
    "        title_opts=opts.TitleOpts(title=\"Top250年份分布\"),\n",
    "        datazoom_opts=opts.DataZoomOpts(),\n",
    "    )\n",
    "    .render(\"上映年份.html\")\n",
    ")\n",
    "c1\n"
   ]
  },
  {
   "cell_type": "markdown",
   "id": "2770ce16",
   "metadata": {},
   "source": [
    "#  结论\n",
    "这里可以看出电影TOP250里，电影的上映年份，多分布于80年代以后。其中有好几年是在10部及以上的。\n",
    "\n",
    "从年份的分布情况看，大部分高分电影都上映在 1987 年之后，并且随着时间逐渐增加，而近两年的高分电影的数量相对比较少。"
   ]
  },
  {
   "cell_type": "code",
   "execution_count": 6,
   "id": "3e6415c5",
   "metadata": {},
   "outputs": [
    {
     "name": "stderr",
     "output_type": "stream",
     "text": [
      "D:\\anaconda3\\Lib\\site-packages\\IPython\\core\\pylabtools.py:152: UserWarning: Glyph 25968 (\\N{CJK UNIFIED IDEOGRAPH-6570}) missing from current font.\n",
      "  fig.canvas.print_figure(bytes_io, **kw)\n",
      "D:\\anaconda3\\Lib\\site-packages\\IPython\\core\\pylabtools.py:152: UserWarning: Glyph 37327 (\\N{CJK UNIFIED IDEOGRAPH-91CF}) missing from current font.\n",
      "  fig.canvas.print_figure(bytes_io, **kw)\n",
      "D:\\anaconda3\\Lib\\site-packages\\IPython\\core\\pylabtools.py:152: UserWarning: Glyph 35780 (\\N{CJK UNIFIED IDEOGRAPH-8BC4}) missing from current font.\n",
      "  fig.canvas.print_figure(bytes_io, **kw)\n",
      "D:\\anaconda3\\Lib\\site-packages\\IPython\\core\\pylabtools.py:152: UserWarning: Glyph 20998 (\\N{CJK UNIFIED IDEOGRAPH-5206}) missing from current font.\n",
      "  fig.canvas.print_figure(bytes_io, **kw)\n",
      "D:\\anaconda3\\Lib\\site-packages\\IPython\\core\\pylabtools.py:152: UserWarning: Glyph 24067 (\\N{CJK UNIFIED IDEOGRAPH-5E03}) missing from current font.\n",
      "  fig.canvas.print_figure(bytes_io, **kw)\n",
      "D:\\anaconda3\\Lib\\site-packages\\IPython\\core\\pylabtools.py:152: UserWarning: Glyph 24773 (\\N{CJK UNIFIED IDEOGRAPH-60C5}) missing from current font.\n",
      "  fig.canvas.print_figure(bytes_io, **kw)\n",
      "D:\\anaconda3\\Lib\\site-packages\\IPython\\core\\pylabtools.py:152: UserWarning: Glyph 20917 (\\N{CJK UNIFIED IDEOGRAPH-51B5}) missing from current font.\n",
      "  fig.canvas.print_figure(bytes_io, **kw)\n"
     ]
    },
    {
     "data": {
      "image/png": "[encoded data removed]",
      "text/plain": [
       "<Figure size 1000x600 with 1 Axes>"
      ]
     },
     "metadata": {},
     "output_type": "display_data"
    },
    {
     "name": "stdout",
     "output_type": "stream",
     "text": [
      "平均分为 8.94 分\n",
      "众数为 8.8 分\n",
      "评分与排名的相关系数为 -0.2465\n",
      "最低评分为 8.4，最高评分为 9.7\n",
      "大多数评分分布于「8.4」到「9.7」之间。\n"
     ]
    }
   ],
   "source": [
    "# # 评分分布情况\n",
    "# plt.figure(figsize=(10,6))\n",
    "# plt.hist(list(df[\"评分\"]),bins=8,facecolor=\"blue\", edgecolor=\"black\", alpha=0.7)\n",
    "# plt.show()\n",
    "\n",
    "\n",
    "import pandas as pd\n",
    "import matplotlib.pyplot as plt\n",
    "import numpy as np\n",
    "\n",
    "# 示例数据框，请用你的实际数据替换\n",
    "# df = pd.DataFrame({\n",
    "#     \"评分\": [8.5, 8.7, 8.9, 8.3, 8.4, 8.6, 9.0, 9.2, 9.1, 8.8],\n",
    "#     \"排名\": [1, 2, 3, 250, 240, 230, 10, 5, 7, 20]\n",
    "# })\n",
    "# 生成排名\n",
    "df[\"排名\"] = np.arange(1, len(df) + 1)\n",
    "\n",
    "\n",
    "# 绘制评分分布直方图\n",
    "plt.figure(figsize=(10, 6))\n",
    "plt.hist(df[\"评分\"], bins=8, facecolor=\"blue\", edgecolor=\"black\", alpha=0.7)\n",
    "plt.xlabel(\"评分\")\n",
    "plt.ylabel(\"数量\")\n",
    "plt.title(\"评分分布情况\")\n",
    "plt.show()\n",
    "\n",
    "# 计算平均数\n",
    "average_score = df[\"评分\"].mean()\n",
    "print(f\"平均分为 {average_score:.2f} 分\")\n",
    "\n",
    "# 计算众数\n",
    "mode_score = df[\"评分\"].mode()[0]\n",
    "print(f\"众数为 {mode_score:.1f} 分\")\n",
    "\n",
    "# 计算评分与排名的相关系数\n",
    "correlation = df[\"评分\"].corr(df[\"排名\"])\n",
    "print(f\"评分与排名的相关系数为 {correlation:.4f}\")\n",
    "\n",
    "# 输出评分的最小值和最大值\n",
    "min_score = df[\"评分\"].min()\n",
    "max_score = df[\"评分\"].max()\n",
    "print(f\"最低评分为 {min_score:.1f}，最高评分为 {max_score:.1f}\")\n",
    "\n",
    "# 分析结果\n",
    "print(f\"大多数评分分布于「{min_score:.1f}」到「{max_score:.1f}」之间。\")\n"
   ]
  },
  {
   "cell_type": "markdown",
   "id": "c172fda8",
   "metadata": {},
   "source": [
    "## 结论\n",
    "平均分为 8.94 分\n",
    "众数为 8.8 分\n",
    "评分与排名的相关系数为 -0.3695\n",
    "最低评分为 8.4，最高评分为 9.7\n",
    "大多数评分分布于「8.4」到「9.7」之间。"
   ]
  },
  {
   "cell_type": "code",
   "execution_count": 7,
   "id": "421b7076",
   "metadata": {},
   "outputs": [
    {
     "data": {
      "image/png": "[encoded data removed]",
      "text/plain": [
       "<Figure size 1000x500 with 1 Axes>"
      ]
     },
     "metadata": {},
     "output_type": "display_data"
    }
   ],
   "source": [
    "# 排名与评分分布情况\n",
    "\n",
    "plt.figure(figsize=(10,5), dpi=100)\n",
    "plt.scatter(df.index,df['评分'])\n",
    "plt.show()\n"
   ]
  },
  {
   "cell_type": "markdown",
   "id": "500bea1a",
   "metadata": {},
   "source": [
    "从一半来说，排名越靠前，评价人数越多，并且分数也越高\n",
    "可能没有去重（电影数据重复了）"
   ]
  },
  {
   "cell_type": "markdown",
   "id": "1b392ceb",
   "metadata": {},
   "source": [
    "# 去重后重新进行数据分析\n"
   ]
  },
  {
   "cell_type": "code",
   "execution_count": 8,
   "id": "d88e197b",
   "metadata": {},
   "outputs": [],
   "source": [
    "import pandas as pd\n",
    "import matplotlib.pyplot as plt\n",
    "import numpy as np\n",
    "\n",
    "# 去除重复的电影数据\n",
    "df = df.drop_duplicates(subset=[\"片名\"])\n",
    "\n",
    "# 保存去重后的数据到新的Excel文件\n",
    "df.to_excel(\"TOP250_deduplicated.xlsx\", index=False)\n"
   ]
  },
  {
   "cell_type": "code",
   "execution_count": 9,
   "id": "aa657558",
   "metadata": {},
   "outputs": [],
   "source": [
    "from matplotlib import pyplot as plt\n",
    "import pandas as pd\n",
    "\n",
    "\n",
    "\n",
    "df = pd.read_excel(\"TOP250_deduplicated.xlsx\",index_col=False)"
   ]
  },
  {
   "cell_type": "code",
   "execution_count": 21,
   "id": "f8291ceb",
   "metadata": {},
   "outputs": [
    {
     "data": {
      "text/plain": [
       "'C:\\\\Users\\\\Administrator\\\\Downloads\\\\pythonproject\\\\上映年份2.html'"
      ]
     },
     "execution_count": 21,
     "metadata": {},
     "output_type": "execute_result"
    }
   ],
   "source": [
    "year = []\n",
    "\n",
    "df[\"上映年份\"].value_counts()\n",
    "x1 = list(df[\"上映年份\"].value_counts().sort_index().index)\n",
    "y1 = list(df[\"上映年份\"].value_counts().sort_index().values)\n",
    "y1 = [str(i) for i in y1]\n",
    "\n",
    "# x1：获取所有年份，并按照年份排序后作为 x 轴的数据。\n",
    "# y1：获取每个年份对应的电影数量，并将其转换为字符串格式，作为 y 轴的数据。\n",
    "\n",
    "# 上映年份分布\n",
    "from pyecharts import options as opts\n",
    "from pyecharts.charts import Bar\n",
    "from pyecharts.faker import Faker\n",
    "c1 = (\n",
    "    Bar()        #创建一个柱状图对象\n",
    "    .add_xaxis(x1)\n",
    "    .add_yaxis(\"影片数量\", y1)\n",
    "    .set_global_opts(         #设置全局选项，包括图表标题和数据缩放选项\n",
    "        title_opts=opts.TitleOpts(title=\"Top250年份分布\"),\n",
    "        datazoom_opts=opts.DataZoomOpts(),\n",
    "    )\n",
    "    .render(\"上映年份2.html\") #：生成最终的 HTML 文件，保存为“上映年份2.html”。\n",
    ")\n",
    "c1\n"
   ]
  },
  {
   "cell_type": "markdown",
   "id": "53b4ef18",
   "metadata": {},
   "source": [
    "与去重之前比，数量减半了"
   ]
  },
  {
   "cell_type": "code",
   "execution_count": 10,
   "id": "2aa394c6",
   "metadata": {},
   "outputs": [
    {
     "name": "stderr",
     "output_type": "stream",
     "text": [
      "D:\\anaconda3\\Lib\\site-packages\\IPython\\core\\pylabtools.py:152: UserWarning: Glyph 25968 (\\N{CJK UNIFIED IDEOGRAPH-6570}) missing from current font.\n",
      "  fig.canvas.print_figure(bytes_io, **kw)\n",
      "D:\\anaconda3\\Lib\\site-packages\\IPython\\core\\pylabtools.py:152: UserWarning: Glyph 37327 (\\N{CJK UNIFIED IDEOGRAPH-91CF}) missing from current font.\n",
      "  fig.canvas.print_figure(bytes_io, **kw)\n",
      "D:\\anaconda3\\Lib\\site-packages\\IPython\\core\\pylabtools.py:152: UserWarning: Glyph 35780 (\\N{CJK UNIFIED IDEOGRAPH-8BC4}) missing from current font.\n",
      "  fig.canvas.print_figure(bytes_io, **kw)\n",
      "D:\\anaconda3\\Lib\\site-packages\\IPython\\core\\pylabtools.py:152: UserWarning: Glyph 20998 (\\N{CJK UNIFIED IDEOGRAPH-5206}) missing from current font.\n",
      "  fig.canvas.print_figure(bytes_io, **kw)\n",
      "D:\\anaconda3\\Lib\\site-packages\\IPython\\core\\pylabtools.py:152: UserWarning: Glyph 24067 (\\N{CJK UNIFIED IDEOGRAPH-5E03}) missing from current font.\n",
      "  fig.canvas.print_figure(bytes_io, **kw)\n",
      "D:\\anaconda3\\Lib\\site-packages\\IPython\\core\\pylabtools.py:152: UserWarning: Glyph 24773 (\\N{CJK UNIFIED IDEOGRAPH-60C5}) missing from current font.\n",
      "  fig.canvas.print_figure(bytes_io, **kw)\n",
      "D:\\anaconda3\\Lib\\site-packages\\IPython\\core\\pylabtools.py:152: UserWarning: Glyph 20917 (\\N{CJK UNIFIED IDEOGRAPH-51B5}) missing from current font.\n",
      "  fig.canvas.print_figure(bytes_io, **kw)\n"
     ]
    },
    {
     "data": {
      "image/png": "[encoded data removed]",
      "text/plain": [
       "<Figure size 1000x600 with 1 Axes>"
      ]
     },
     "metadata": {},
     "output_type": "display_data"
    },
    {
     "name": "stdout",
     "output_type": "stream",
     "text": [
      "平均分为 8.94 分\n",
      "众数为 8.8 分\n",
      "评分与排名的相关系数为 -0.7396\n",
      "最低评分为 8.4，最高评分为 9.7\n",
      "大多数评分分布于「8.4」到「9.7」之间。\n"
     ]
    }
   ],
   "source": [
    "import pandas as pd\n",
    "import matplotlib.pyplot as plt\n",
    "import numpy as np\n",
    "\n",
    "\n",
    "# 生成排名\n",
    "df[\"排名\"] = np.arange(1, len(df) + 1)\n",
    "#使用 numpy 库中的 arange 函数生成从 1 到 DataFrame 的长度（即电影数量）的排名序列，并将其添加为新列 \"排名\" 到 DataFrame df 中。\n",
    "\n",
    "# 绘制评分分布直方图\n",
    "plt.figure(figsize=(10, 6))  #创建一个图形窗口大小为 (10, 6)\n",
    "plt.hist(df[\"评分\"], bins=8, facecolor=\"blue\", edgecolor=\"black\", alpha=0.7)\n",
    "plt.xlabel(\"评分\")   #使用 plt.hist() 绘制评分（\"评分\" 列）的直方图，\n",
    "                    #分成 8 个箱子，蓝色填充，黑色边缘，透明度为 0.7\n",
    "plt.ylabel(\"数量\")\n",
    "plt.title(\"评分分布情况\")\n",
    "plt.show()\n",
    "\n",
    "# 计算平均数 \n",
    "average_score = df[\"评分\"].mean()          #使用 mean() 方法计算 \"评分\" 列的平均值\n",
    "print(f\"平均分为 {average_score:.2f} 分\")\n",
    "\n",
    "# 计算众数\n",
    "mode_score = df[\"评分\"].mode()[0]\n",
    "print(f\"众数为 {mode_score:.1f} 分\")\n",
    "\n",
    "# 计算评分与排名的相关系数\n",
    "correlation = df[\"评分\"].corr(df[\"排名\"])\n",
    "print(f\"评分与排名的相关系数为 {correlation:.4f}\")\n",
    "\n",
    "# 输出评分的最小值和最大值\n",
    "min_score = df[\"评分\"].min()\n",
    "max_score = df[\"评分\"].max()\n",
    "print(f\"最低评分为 {min_score:.1f}，最高评分为 {max_score:.1f}\")\n",
    "\n",
    "# 分析结果\n",
    "print(f\"大多数评分分布于「{min_score:.1f}」到「{max_score:.1f}」之间。\")\n"
   ]
  },
  {
   "cell_type": "markdown",
   "id": "c9a77f89",
   "metadata": {},
   "source": [
    "与去重之前比，此时的相关性是强相关"
   ]
  },
  {
   "cell_type": "code",
   "execution_count": 23,
   "id": "176f2537",
   "metadata": {},
   "outputs": [
    {
     "data": {
      "image/png": "[encoded data removed]",
      "text/plain": [
       "<Figure size 1000x500 with 1 Axes>"
      ]
     },
     "metadata": {},
     "output_type": "display_data"
    }
   ],
   "source": [
    "# 排名与评分分布情况\n",
    "\n",
    "plt.figure(figsize=(10,5), dpi=100)  #分辨率为 100 像素每英寸\n",
    "plt.scatter(df.index,df['评分'])  #使用 scatter 方法绘制散点图\n",
    "plt.show()         #df.index 表示 DataFrame 的索引，即电影的排名；df['评分'] 表示电影的评分\n"
   ]
  },
  {
   "cell_type": "markdown",
   "id": "dc94fcbf",
   "metadata": {},
   "source": [
    "在散点图中，X轴表示排名，Y轴表示评分。如果图中的点形成从左上到右下的趋势线，这表明评分和排名确实存在强负相关性。\n",
    "相关系数为 -0.7396 表示评分和排名之间存在强负相关关系。这个结果表明排名较高的电影通常有较高的评分，排名较低的电影通常有较低的评分。符合预期"
   ]
  },
  {
   "cell_type": "code",
   "execution_count": 13,
   "id": "eec9bbdb",
   "metadata": {},
   "outputs": [],
   "source": [
    "import pandas as pd\n",
    "import numpy as np\n",
    "import matplotlib.pyplot as plt\n",
    "from matplotlib.font_manager import FontProperties\n",
    "\n",
    "# 读取数据\n",
    "df = pd.read_excel(\"TOP250_deduplicated.xlsx\", index_col=False)\n",
    "                           #index_col=False 表示不使用任何列作为索引\n",
    "# 生成排名\n",
    "df[\"排名\"] = np.arange(1, len(df) + 1)\n",
    "\n",
    "# 设置中文字体     使用 FontProperties 指定中文字体文件的路径\n",
    "font = FontProperties(fname='C:/Windows/Fonts/simhei.ttf')  # 替换为实际字体路径\n",
    "\n",
    "# 绘制评分分布直方图并保存为图片\n",
    "plt.figure(figsize=(10, 6))\n",
    "plt.hist(df[\"评分\"], bins=8, facecolor=\"blue\", edgecolor=\"black\", alpha=0.7)\n",
    "plt.xlabel(\"评分\", fontproperties=font)  #使用 fontproperties=font 将 x 轴、y 轴标签和标题的字体\n",
    "plt.ylabel(\"数量\", fontproperties=font)   #设置为指定的中文字体\n",
    "plt.title(\"评分分布情况\", fontproperties=font)\n",
    "plt.savefig(\"rating_distribution.png\")     #保存为图片\n",
    "plt.close()\n",
    "\n",
    "\n",
    "\n",
    "# 绘制评分与排名的散点图并保存为图片\n",
    "plt.figure(figsize=(10, 5), dpi=100)\n",
    "plt.scatter(df.index, df['评分'])\n",
    "plt.xlabel(\"排名\", fontproperties=font)\n",
    "plt.ylabel(\"评分\", fontproperties=font)\n",
    "plt.title(\"评分与排名分布情况\", fontproperties=font)\n",
    "plt.savefig(\"rating_vs_rank.png\")\n",
    "plt.close()\n"
   ]
  },
  {
   "cell_type": "markdown",
   "id": "9eeb3596",
   "metadata": {},
   "source": [
    "总的来说，排名越靠前，评价人数越多，并且分数也越高。"
   ]
  },
  {
   "cell_type": "code",
   "execution_count": 4,
   "id": "76147197",
   "metadata": {},
   "outputs": [
    {
     "name": "stdout",
     "output_type": "stream",
     "text": [
      "传记: 32\n",
      "儿童: 8\n",
      "冒险: 100\n",
      "剧情: 372\n",
      "动作: 62\n",
      "动画: 74\n",
      "历史: 18\n",
      "古装: 20\n",
      "同性: 16\n",
      "喜剧: 104\n",
      "奇幻: 84\n",
      "家庭: 40\n",
      "恐怖: 4\n",
      "悬疑: 58\n",
      "情色: 4\n",
      "惊悚: 66\n",
      "战争: 30\n",
      "歌舞: 12\n",
      "武侠: 8\n",
      "灾难: 4\n",
      "爱情: 114\n",
      "犯罪: 82\n",
      "科幻: 46\n",
      "纪录片: 4\n",
      "西部: 4\n",
      "运动: 4\n",
      "音乐: 18\n"
     ]
    }
   ],
   "source": [
    "# 电影类型图\n",
    "from collections import Counter\n",
    "colors = ' '.join([i for i in df[ '类型']]).strip().split()\n",
    "c = dict(Counter(colors))\n",
    "\n",
    "# 去掉不需要的键 \"/\"\n",
    "if '/' in c:\n",
    "    del c['/']\n",
    "    \n",
    "# f = zip(c.keys(), c.values())\n",
    "# words = sorted(f)\n",
    "# print(c)\n",
    "\n",
    "# 排序并打印每个类型及其数量\n",
    "for genre, count in sorted(c.items()):\n",
    "    print(f\"{genre}: {count}\")"
   ]
  },
  {
   "cell_type": "code",
   "execution_count": 10,
   "id": "3ba997ba",
   "metadata": {},
   "outputs": [
    {
     "data": {
      "text/html": [
       "<div>\n",
       "<style scoped>\n",
       "    .dataframe tbody tr th:only-of-type {\n",
       "        vertical-align: middle;\n",
       "    }\n",
       "\n",
       "    .dataframe tbody tr th {\n",
       "        vertical-align: top;\n",
       "    }\n",
       "\n",
       "    .dataframe thead th {\n",
       "        text-align: right;\n",
       "    }\n",
       "</style>\n",
       "<table border=\"1\" class=\"dataframe\">\n",
       "  <thead>\n",
       "    <tr style=\"text-align: right;\">\n",
       "      <th></th>\n",
       "      <th>类型</th>\n",
       "      <th>数量</th>\n",
       "    </tr>\n",
       "  </thead>\n",
       "  <tbody>\n",
       "    <tr>\n",
       "      <th>0</th>\n",
       "      <td>传记</td>\n",
       "      <td>32</td>\n",
       "    </tr>\n",
       "    <tr>\n",
       "      <th>1</th>\n",
       "      <td>儿童</td>\n",
       "      <td>8</td>\n",
       "    </tr>\n",
       "    <tr>\n",
       "      <th>2</th>\n",
       "      <td>冒险</td>\n",
       "      <td>100</td>\n",
       "    </tr>\n",
       "    <tr>\n",
       "      <th>3</th>\n",
       "      <td>动作</td>\n",
       "      <td>62</td>\n",
       "    </tr>\n",
       "    <tr>\n",
       "      <th>4</th>\n",
       "      <td>动画</td>\n",
       "      <td>74</td>\n",
       "    </tr>\n",
       "    <tr>\n",
       "      <th>5</th>\n",
       "      <td>历史</td>\n",
       "      <td>18</td>\n",
       "    </tr>\n",
       "    <tr>\n",
       "      <th>6</th>\n",
       "      <td>古装</td>\n",
       "      <td>20</td>\n",
       "    </tr>\n",
       "    <tr>\n",
       "      <th>7</th>\n",
       "      <td>同性</td>\n",
       "      <td>16</td>\n",
       "    </tr>\n",
       "    <tr>\n",
       "      <th>8</th>\n",
       "      <td>喜剧</td>\n",
       "      <td>104</td>\n",
       "    </tr>\n",
       "    <tr>\n",
       "      <th>9</th>\n",
       "      <td>奇幻</td>\n",
       "      <td>84</td>\n",
       "    </tr>\n",
       "    <tr>\n",
       "      <th>10</th>\n",
       "      <td>家庭</td>\n",
       "      <td>40</td>\n",
       "    </tr>\n",
       "    <tr>\n",
       "      <th>11</th>\n",
       "      <td>恐怖</td>\n",
       "      <td>4</td>\n",
       "    </tr>\n",
       "    <tr>\n",
       "      <th>12</th>\n",
       "      <td>悬疑</td>\n",
       "      <td>58</td>\n",
       "    </tr>\n",
       "    <tr>\n",
       "      <th>13</th>\n",
       "      <td>情色</td>\n",
       "      <td>4</td>\n",
       "    </tr>\n",
       "    <tr>\n",
       "      <th>14</th>\n",
       "      <td>惊悚</td>\n",
       "      <td>66</td>\n",
       "    </tr>\n",
       "    <tr>\n",
       "      <th>15</th>\n",
       "      <td>战争</td>\n",
       "      <td>30</td>\n",
       "    </tr>\n",
       "    <tr>\n",
       "      <th>16</th>\n",
       "      <td>歌舞</td>\n",
       "      <td>12</td>\n",
       "    </tr>\n",
       "    <tr>\n",
       "      <th>17</th>\n",
       "      <td>武侠</td>\n",
       "      <td>8</td>\n",
       "    </tr>\n",
       "    <tr>\n",
       "      <th>18</th>\n",
       "      <td>灾难</td>\n",
       "      <td>4</td>\n",
       "    </tr>\n",
       "    <tr>\n",
       "      <th>19</th>\n",
       "      <td>爱情</td>\n",
       "      <td>114</td>\n",
       "    </tr>\n",
       "    <tr>\n",
       "      <th>20</th>\n",
       "      <td>犯罪</td>\n",
       "      <td>82</td>\n",
       "    </tr>\n",
       "    <tr>\n",
       "      <th>21</th>\n",
       "      <td>科幻</td>\n",
       "      <td>46</td>\n",
       "    </tr>\n",
       "    <tr>\n",
       "      <th>22</th>\n",
       "      <td>纪录片</td>\n",
       "      <td>4</td>\n",
       "    </tr>\n",
       "    <tr>\n",
       "      <th>23</th>\n",
       "      <td>西部</td>\n",
       "      <td>4</td>\n",
       "    </tr>\n",
       "    <tr>\n",
       "      <th>24</th>\n",
       "      <td>运动</td>\n",
       "      <td>4</td>\n",
       "    </tr>\n",
       "    <tr>\n",
       "      <th>25</th>\n",
       "      <td>音乐</td>\n",
       "      <td>18</td>\n",
       "    </tr>\n",
       "  </tbody>\n",
       "</table>\n",
       "</div>"
      ],
      "text/plain": [
       "     类型   数量\n",
       "0    传记   32\n",
       "1    儿童    8\n",
       "2    冒险  100\n",
       "3    动作   62\n",
       "4    动画   74\n",
       "5    历史   18\n",
       "6    古装   20\n",
       "7    同性   16\n",
       "8    喜剧  104\n",
       "9    奇幻   84\n",
       "10   家庭   40\n",
       "11   恐怖    4\n",
       "12   悬疑   58\n",
       "13   情色    4\n",
       "14   惊悚   66\n",
       "15   战争   30\n",
       "16   歌舞   12\n",
       "17   武侠    8\n",
       "18   灾难    4\n",
       "19   爱情  114\n",
       "20   犯罪   82\n",
       "21   科幻   46\n",
       "22  纪录片    4\n",
       "23   西部    4\n",
       "24   运动    4\n",
       "25   音乐   18"
      ]
     },
     "execution_count": 10,
     "metadata": {},
     "output_type": "execute_result"
    }
   ],
   "source": [
    "from collections import Counter\n",
    "import pandas as pd\n",
    "\n",
    "#  df['类型'] 是电影类型的列表\n",
    "colors = ' '.join([i for i in df['类型']]).strip().split()\n",
    "#join([i for i in df['类型']]) 将每个电影类型连接成一个字符串，空格分隔\n",
    "#strip() 去除首尾的空格。\n",
    "# split() 将字符串分割为一个列表，其中每个元素是一个电影类型。\n",
    "c = dict(Counter(colors))\n",
    "# Counter(colors) 使用 Counter 对列表中的元素进行计数，返回一个字典 c，其中键是电影类型，值是对应的数量。\n",
    "\n",
    "\n",
    "# 去掉不需要的键 \"/\"和“剧情”\n",
    "if '/' in c:\n",
    "    del c['/']\n",
    "\n",
    "del c[\"剧情\"]    \n",
    "\n",
    "# 创建一个 DataFrame\n",
    "df_genres = pd.DataFrame(list(c.items()), columns=['类型', '数量'])\n",
    "\n",
    "# 排序 DataFrame\n",
    "df_genres = df_genres.sort_values(by='类型').reset_index(drop=True)\n",
    "#reset_index(drop=True) 重新设置索引，丢弃原来的索引并生成新的连续整数索引\n",
    "\n",
    "# 显示 DataFrame\n",
    "df_genres\n"
   ]
  },
  {
   "cell_type": "code",
   "execution_count": 11,
   "id": "2cefb281",
   "metadata": {},
   "outputs": [
    {
     "data": {
      "text/plain": [
       "'C:\\\\Users\\\\Administrator\\\\Downloads\\\\pythonproject\\\\电影类型词云图.html'"
      ]
     },
     "execution_count": 11,
     "metadata": {},
     "output_type": "execute_result"
    }
   ],
   "source": [
    "from pyecharts.charts import WordCloud\n",
    "from pyecharts import options as opts\n",
    "from collections import Counter\n",
    "\n",
    "# 假设 df['类型'] 是电影类型的列表\n",
    "colors = ' '.join([i for i in df['类型']]).strip().split()\n",
    "c = dict(Counter(colors))\n",
    "\n",
    "# 去掉不需要的键 \"/\"\n",
    "if '/' in c:\n",
    "    del c['/']\n",
    "\n",
    "del c[\"剧情\"]   \n",
    "\n",
    "# 准备词云数据\n",
    "words = sorted(c.items())\n",
    "\n",
    "# 绘制词云图\n",
    "c3 = (\n",
    "    WordCloud()\n",
    "    .add(\n",
    "        \"\",\n",
    "        words,\n",
    "        word_size_range=[20, 100],\n",
    "        textstyle_opts=opts.TextStyleOpts(font_family=\"cursive\"),\n",
    "    )\n",
    "    .set_global_opts(title_opts=opts.TitleOpts(title=\"WordCloud-自定义文字样式\"))\n",
    "    .render(\"电影类型词云图.html\")\n",
    ")\n",
    "\n",
    "c3\n"
   ]
  },
  {
   "cell_type": "code",
   "execution_count": 14,
   "id": "2a6cb654",
   "metadata": {},
   "outputs": [
    {
     "data": {
      "image/png": "[encoded data removed]",
      "text/plain": [
       "<Figure size 640x480 with 1 Axes>"
      ]
     },
     "metadata": {},
     "output_type": "display_data"
    }
   ],
   "source": [
    "# 数据预处理\n",
    "\n",
    "import pandas as pd\n",
    "\n",
    "df = pd.read_excel('TOP250_deduplicated.xlsx')\n",
    "\n",
    "# 处理缺失值\n",
    "df = df.dropna()\n",
    "\n",
    "# 数据类型转换\n",
    "df['评分'] = df['评分'].astype(float)\n",
    "df['上映年份'] = df['上映年份'].astype(int)\n",
    "# 评分与年份的关系\n",
    "# 评分与年份的关系\n",
    "from matplotlib.font_manager import FontProperties\n",
    "\n",
    "# 设置中文字体\n",
    "font = FontProperties(fname='C:/Windows/Fonts/simhei.ttf')  # 替换为实际字体路径\n",
    "\n",
    "\n",
    "#plt.scatter() 函数用于绘制散点图\n",
    "plt.scatter(df['评分'], df['上映年份'], alpha=0.7)\n",
    "plt.title('评分与上映年份的关系',fontproperties=font)\n",
    "plt.xlabel('上映年份',fontproperties=font)\n",
    "plt.ylabel('评分',fontproperties=font)\n",
    "plt.savefig(\"评分与上映年份的关系.png\")\n",
    "plt.show()\n"
   ]
  },
  {
   "cell_type": "code",
   "execution_count": null,
   "id": "5d89e772",
   "metadata": {},
   "outputs": [],
   "source": []
  }
 ],
 "metadata": {
  "kernelspec": {
   "display_name": "Python 3 (ipykernel)",
   "language": "python",
   "name": "python3"
  },
  "language_info": {
   "codemirror_mode": {
    "name": "ipython",
    "version": 3
   },
   "file_extension": ".py",
   "mimetype": "text/x-python",
   "name": "python",
   "nbconvert_exporter": "python",
   "pygments_lexer": "ipython3",
   "version": "3.11.4"
  }
 },
 "nbformat": 4,
 "nbformat_minor": 5
}
