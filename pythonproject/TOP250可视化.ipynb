{
 "cells": [
  {
   "cell_type": "code",
   "execution_count": 7,
   "id": "a0f79774",
   "metadata": {},
   "outputs": [],
   "source": [
    "#可视化\n",
    "import pandas as pd\n",
    "from pyecharts import options as opts\n",
    "from pyecharts.charts import Bar, Grid\n",
    "\n",
    "data = pd.read_excel('TOP250.xlsx')\n",
    "\n",
    "\n"
   ]
  },
  {
   "cell_type": "code",
   "execution_count": 3,
   "id": "a21bae5b",
   "metadata": {},
   "outputs": [],
   "source": [
    "#各年份上映电影数量柱状图（纵向）\n",
    "\n",
    "# 提取年份数据\n",
    "year = data['上映年份'].value_counts().sort_index()\n",
    "\n",
    "c1 = (\n",
    "        Bar()\n",
    "        .add_xaxis(list(year.index))\n",
    "        .add_yaxis('上映数量', year.values.tolist())\n",
    "        .set_global_opts(\n",
    "            title_opts=opts.TitleOpts(title='各年份上映电影数量'),\n",
    "            yaxis_opts=opts.AxisOpts(name='上映数量'),\n",
    "            xaxis_opts=opts.AxisOpts(name='上映年份'),\n",
    "            datazoom_opts=[opts.DataZoomOpts(), opts.DataZoomOpts(type_='inside')],)\n",
    "        .render('各年份上映电影数量.html')\n",
    "        )"
   ]
  },
  {
   "cell_type": "code",
   "execution_count": null,
   "id": "d5584d77",
   "metadata": {},
   "outputs": [],
   "source": [
    "# 各地区上映电影数量前十柱状图（横向）：\n",
    "#提取数据\n",
    "country_counts = data['国家/地区'].value_counts().sort_index()\n",
    "\n",
    "c2 = (\n",
    "        Bar()\n",
    "        .add_xaxis(list(country_counts.index)[-10:])\n",
    "        .add_yaxis('地区上映数量', country_counts.values.tolist()[-10:])\n",
    "        .reversal_axis()\n",
    "        .set_global_opts(\n",
    "        title_opts=opts.TitleOpts(title='地区上映电影数量'),\n",
    "        yaxis_opts=opts.AxisOpts(name='国家/地区'),\n",
    "        xaxis_opts=opts.AxisOpts(name='上映数量'),\n",
    "        )\n",
    "        .set_series_opts(label_opts=opts.LabelOpts(position=\"right\"))\n",
    "        .render('各地区上映电影数量前十.html')\n",
    "        )\n",
    "\n",
    "    "
   ]
  },
  {
   "cell_type": "code",
   "execution_count": 4,
   "id": "178b74cd",
   "metadata": {},
   "outputs": [],
   "source": [
    "# 电影评价人数前二十柱状图（横向）\n",
    "df = data[['片名', '评价人数']].drop_duplicates(subset='片名').sort_values(by='评价人数', ascending=False).head(20)\n",
    "\n",
    "c3 = (\n",
    "    Bar()\n",
    "    .add_xaxis(df['片名'].values.tolist())\n",
    "    .add_yaxis('评价人数', df['评价人数'].values.tolist())\n",
    "    .set_global_opts(\n",
    "        title_opts=opts.TitleOpts(title='电影评价人数前二十'),\n",
    "        yaxis_opts=opts.AxisOpts(name='片名'),\n",
    "        xaxis_opts=opts.AxisOpts(name='人数'),\n",
    "        datazoom_opts=opts.DataZoomOpts(type_='inside'),\n",
    "    )\n",
    "    .set_series_opts(label_opts=opts.LabelOpts(position=\"right\"))\n",
    "    .render('电影评价人数前二十.html', width=\"1000px\", height=\"600px\")  # 修改图表的宽度和高度\n",
    ")\n"
   ]
  },
  {
   "cell_type": "code",
   "execution_count": 8,
   "id": "77f97c6a",
   "metadata": {},
   "outputs": [
    {
     "ename": "AttributeError",
     "evalue": "'str' object has no attribute 'options'",
     "output_type": "error",
     "traceback": [
      "\u001b[1;31m---------------------------------------------------------------------------\u001b[0m",
      "\u001b[1;31mAttributeError\u001b[0m                            Traceback (most recent call last)",
      "Cell \u001b[1;32mIn[8], line 5\u001b[0m\n\u001b[0;32m      1\u001b[0m \u001b[38;5;66;03m# Grid 类\u001b[39;00m\n\u001b[0;32m      2\u001b[0m \u001b[38;5;66;03m# 用于将多个图表合并到一个页面上\u001b[39;00m\n\u001b[0;32m      4\u001b[0m grid \u001b[38;5;241m=\u001b[39m Grid()\n\u001b[1;32m----> 5\u001b[0m grid\u001b[38;5;241m.\u001b[39madd(c1, grid_opts\u001b[38;5;241m=\u001b[39mopts\u001b[38;5;241m.\u001b[39mGridOpts(pos_bottom\u001b[38;5;241m=\u001b[39m\u001b[38;5;124m\"\u001b[39m\u001b[38;5;124m60\u001b[39m\u001b[38;5;124m%\u001b[39m\u001b[38;5;124m\"\u001b[39m))\n\u001b[0;32m      6\u001b[0m grid\u001b[38;5;241m.\u001b[39madd(c2, grid_opts\u001b[38;5;241m=\u001b[39mopts\u001b[38;5;241m.\u001b[39mGridOpts(pos_top\u001b[38;5;241m=\u001b[39m\u001b[38;5;124m\"\u001b[39m\u001b[38;5;124m60\u001b[39m\u001b[38;5;124m%\u001b[39m\u001b[38;5;124m\"\u001b[39m))\n\u001b[0;32m      7\u001b[0m grid\u001b[38;5;241m.\u001b[39madd(c3, grid_opts\u001b[38;5;241m=\u001b[39mopts\u001b[38;5;241m.\u001b[39mGridOpts(pos_top\u001b[38;5;241m=\u001b[39m\u001b[38;5;124m\"\u001b[39m\u001b[38;5;124m60\u001b[39m\u001b[38;5;124m%\u001b[39m\u001b[38;5;124m\"\u001b[39m))\n",
      "File \u001b[1;32mD:\\anaconda3\\Lib\\site-packages\\pyecharts\\charts\\composite_charts\\grid.py:37\u001b[0m, in \u001b[0;36mGrid.add\u001b[1;34m(self, chart, grid_opts, grid_index, is_control_axis_index)\u001b[0m\n\u001b[0;32m     28\u001b[0m \u001b[38;5;28;01mdef\u001b[39;00m \u001b[38;5;21madd\u001b[39m(\n\u001b[0;32m     29\u001b[0m     \u001b[38;5;28mself\u001b[39m,\n\u001b[0;32m     30\u001b[0m     chart: Chart,\n\u001b[1;32m   (...)\u001b[0m\n\u001b[0;32m     34\u001b[0m     is_control_axis_index: \u001b[38;5;28mbool\u001b[39m \u001b[38;5;241m=\u001b[39m \u001b[38;5;28;01mFalse\u001b[39;00m,\n\u001b[0;32m     35\u001b[0m ):\n\u001b[0;32m     36\u001b[0m     \u001b[38;5;28;01mif\u001b[39;00m \u001b[38;5;28mself\u001b[39m\u001b[38;5;241m.\u001b[39moptions \u001b[38;5;129;01mis\u001b[39;00m \u001b[38;5;28;01mNone\u001b[39;00m:\n\u001b[1;32m---> 37\u001b[0m         \u001b[38;5;28mself\u001b[39m\u001b[38;5;241m.\u001b[39moptions \u001b[38;5;241m=\u001b[39m copy\u001b[38;5;241m.\u001b[39mdeepcopy(chart\u001b[38;5;241m.\u001b[39moptions)\n\u001b[0;32m     38\u001b[0m         \u001b[38;5;28mself\u001b[39m\u001b[38;5;241m.\u001b[39mchart_id \u001b[38;5;241m=\u001b[39m chart\u001b[38;5;241m.\u001b[39mchart_id\n\u001b[0;32m     39\u001b[0m         \u001b[38;5;28mself\u001b[39m\u001b[38;5;241m.\u001b[39moptions\u001b[38;5;241m.\u001b[39mupdate(grid\u001b[38;5;241m=\u001b[39m[], title\u001b[38;5;241m=\u001b[39m[])\n",
      "\u001b[1;31mAttributeError\u001b[0m: 'str' object has no attribute 'options'"
     ]
    }
   ],
   "source": [
    "# Grid 类\n",
    "# 用于将多个图表合并到一个页面上\n",
    "\n",
    "grid = Grid()\n",
    "grid.add(c1, grid_opts=opts.GridOpts(pos_bottom=\"60%\"))\n",
    "grid.add(c2, grid_opts=opts.GridOpts(pos_top=\"60%\"))\n",
    "grid.render(\"combined_charts.html\")\n"
   ]
  },
  {
   "cell_type": "code",
   "execution_count": 11,
   "id": "55eafc73",
   "metadata": {},
   "outputs": [
    {
     "data": {
      "text/plain": [
       "'C:\\\\Users\\\\Administrator\\\\Downloads\\\\pythonproject\\\\电影数据可视化.html'"
      ]
     },
     "execution_count": 11,
     "metadata": {},
     "output_type": "execute_result"
    }
   ],
   "source": [
    "# import pandas as pd\n",
    "# from pyecharts import options as opts\n",
    "# from pyecharts.charts import Bar, Grid\n",
    "\n",
    "# # 读取数据\n",
    "# data = pd.read_excel('TOP250.xlsx')\n",
    "\n",
    "# # 各年份上映电影数量柱状图（纵向）\n",
    "# year = data['上映年份'].value_counts().sort_index()\n",
    "# c1 = (\n",
    "#     Bar()\n",
    "#     .add_xaxis(list(year.index))\n",
    "#     .add_yaxis('上映数量', year.values.tolist())\n",
    "#     .set_global_opts(\n",
    "#         title_opts=opts.TitleOpts(title='各年份上映电影数量'),\n",
    "#         yaxis_opts=opts.AxisOpts(name='上映数量'),\n",
    "#         xaxis_opts=opts.AxisOpts(name='上映年份'),\n",
    "#         datazoom_opts=[opts.DataZoomOpts(), opts.DataZoomOpts(type_='inside')],\n",
    "#     )\n",
    "# )\n",
    "\n",
    "# # 各地区上映电影数量前十柱状图（横向）\n",
    "# country_counts = data['国家/地区'].value_counts().sort_index()\n",
    "# c2 = (\n",
    "#     Bar()\n",
    "#     .add_xaxis(list(country_counts.index)[-10:])\n",
    "#     .add_yaxis('地区上映数量', country_counts.values.tolist()[-10:])\n",
    "#     .reversal_axis()\n",
    "#     .set_global_opts(\n",
    "#         title_opts=opts.TitleOpts(title='地区上映电影数量（前十）'),\n",
    "#         yaxis_opts=opts.AxisOpts(name='国家/地区'),\n",
    "#         xaxis_opts=opts.AxisOpts(name='上映数量'),\n",
    "#     )\n",
    "#     .set_series_opts(label_opts=opts.LabelOpts(position=\"right\"))\n",
    "# )\n",
    "\n",
    "# # 电影评价人数前二十柱状图（横向）\n",
    "# df = data[['片名', '评价人数']].drop_duplicates(subset='片名').sort_values(by='评价人数', ascending=False).head(20)\n",
    "# c3 = (\n",
    "#     Bar()\n",
    "#     .add_xaxis(df['片名'].values.tolist())\n",
    "#     .add_yaxis('评价人数', df['评价人数'].values.tolist())\n",
    "#     .reversal_axis()\n",
    "#     .set_global_opts(\n",
    "#         title_opts=opts.TitleOpts(title='电影评价人数前二十'),\n",
    "#         yaxis_opts=opts.AxisOpts(name='片名'),\n",
    "#         xaxis_opts=opts.AxisOpts(name='人数'),\n",
    "#         datazoom_opts=opts.DataZoomOpts(type_='inside'),\n",
    "#     )\n",
    "#     .set_series_opts(label_opts=opts.LabelOpts(position=\"right\"))\n",
    "# )\n",
    "\n",
    "# # 将图表添加到 Grid 中\n",
    "# grid = Grid(init_opts=opts.InitOpts(width=\"1200px\", height=\"1000px\"))\n",
    "# grid.add(c1, grid_opts=opts.GridOpts(pos_bottom=\"70%\"))\n",
    "# grid.add(c2, grid_opts=opts.GridOpts(pos_top=\"35%\", pos_bottom=\"35%\"))\n",
    "# grid.add(c3, grid_opts=opts.GridOpts(pos_top=\"70%\"))\n",
    "# grid.render(\"电影数据可视化.html\")\n"
   ]
  },
  {
   "cell_type": "code",
   "execution_count": 4,
   "id": "f5f64791",
   "metadata": {},
   "outputs": [
    {
     "data": {
      "text/plain": [
       "'C:\\\\Users\\\\Administrator\\\\Downloads\\\\pythonproject\\\\电影数据可视化.html'"
      ]
     },
     "execution_count": 4,
     "metadata": {},
     "output_type": "execute_result"
    }
   ],
   "source": [
    "#完整代码\n",
    "\n",
    "import pandas as pd\n",
    "from pyecharts import options as opts\n",
    "from pyecharts.charts import Bar, Page\n",
    "\n",
    "from pyecharts.charts import WordCloud\n",
    "\n",
    "from collections import Counter\n",
    "\n",
    "# 读取数据\n",
    "data = pd.read_excel('TOP250.xlsx')\n",
    "\n",
    "# 各年份上映电影数量柱状图（纵向）\n",
    "year = data['上映年份'].value_counts().sort_index()\n",
    "bar1 = (\n",
    "    Bar()\n",
    "    .add_xaxis(list(year.index))\n",
    "    .add_yaxis('上映数量', year.values.tolist(), itemstyle_opts=opts.ItemStyleOpts(color='blue'))\n",
    "    .set_global_opts(\n",
    "        title_opts=opts.TitleOpts(title='各年份上映电影数量', pos_left='left', pos_top='top'),\n",
    "        yaxis_opts=opts.AxisOpts(name='上映数量'),\n",
    "        xaxis_opts=opts.AxisOpts(name='上映年份'),\n",
    "        datazoom_opts=[opts.DataZoomOpts(), opts.DataZoomOpts(type_='inside')],\n",
    "        legend_opts=opts.LegendOpts(textstyle_opts=opts.TextStyleOpts(color='blue'))  # 修改图例颜色\n",
    "    )\n",
    ")\n",
    "\n",
    "# 各地区上映电影数量前十柱状图（横向）\n",
    "country_counts = data['国家/地区'].value_counts().sort_index()\n",
    "bar2 = (\n",
    "    Bar()\n",
    "    .add_xaxis(list(country_counts.index)[-10:])\n",
    "    .add_yaxis('地区上映数量', country_counts.values.tolist()[-10:], itemstyle_opts=opts.ItemStyleOpts(color='green'))\n",
    "    .reversal_axis()\n",
    "    .set_global_opts(\n",
    "        title_opts=opts.TitleOpts(title='地区上映电影数量（前十）', pos_left='left', pos_top='top'),\n",
    "        yaxis_opts=opts.AxisOpts(name='国家/地区'),\n",
    "        xaxis_opts=opts.AxisOpts(name='上映数量'),\n",
    "        legend_opts=opts.LegendOpts(textstyle_opts=opts.TextStyleOpts(color='green'))  # 修改图例颜色\n",
    "    )\n",
    "    .set_series_opts(label_opts=opts.LabelOpts(position=\"right\"))\n",
    ")\n",
    "\n",
    "# 电影评价人数前二十柱状图（横向）\n",
    "df = data[['片名', '评价人数']].drop_duplicates(subset='片名').sort_values(by='评价人数', ascending=False).head(20)\n",
    "bar3 = (\n",
    "    Bar()\n",
    "    .add_xaxis(df['片名'].values.tolist())\n",
    "    .add_yaxis('评价人数', df['评价人数'].values.tolist(), itemstyle_opts=opts.ItemStyleOpts(color='red'))\n",
    "    .reversal_axis()\n",
    "    .set_global_opts(\n",
    "        title_opts=opts.TitleOpts(title='电影评价人数前二十', pos_left='left', pos_top='top'),\n",
    "        yaxis_opts=opts.AxisOpts(name='片名'),\n",
    "        xaxis_opts=opts.AxisOpts(name='人数'),\n",
    "        datazoom_opts=opts.DataZoomOpts(type_='inside'),\n",
    "        legend_opts=opts.LegendOpts(textstyle_opts=opts.TextStyleOpts(color='red'))  # 修改图例颜色\n",
    "    )\n",
    "    .set_series_opts(label_opts=opts.LabelOpts(position=\"right\"))\n",
    ")\n",
    "\n",
    "# 准备词云数据\n",
    "colors = ' '.join([i for i in data['类型']]).strip().split()\n",
    "c = dict(Counter(colors))\n",
    "\n",
    "# 去掉不需要的键 \"/\"\n",
    "if '/' in c:\n",
    "    del c['/']\n",
    "del c[\"剧情\"]\n",
    "\n",
    "# 绘制词云图\n",
    "words = sorted(c.items())\n",
    "wordcloud = (\n",
    "    WordCloud()\n",
    "    .add(\n",
    "        \"\",\n",
    "        words,\n",
    "        word_size_range=[20, 100],\n",
    "        textstyle_opts=opts.TextStyleOpts(font_family=\"cursive\"),\n",
    "    )\n",
    "    .set_global_opts(title_opts=opts.TitleOpts(title=\"电影类型词云图\"))\n",
    ")\n",
    "\n",
    "\n",
    "\n",
    "# 使用 Page 将多个图表合并到一个页面中，并设置间隔\n",
    "page = Page(page_title=\"电影数据可视化\", interval=6, layout=Page.SimplePageLayout)\n",
    "page.add(bar1, bar2, bar3, wordcloud)\n",
    "page.render(\"电影数据可视化.html\")\n"
   ]
  },
  {
   "cell_type": "code",
   "execution_count": 1,
   "id": "87986847",
   "metadata": {},
   "outputs": [
    {
     "name": "stdout",
     "output_type": "stream",
     "text": [
      " * Serving Flask app '__main__'\n",
      " * Debug mode: on\n"
     ]
    },
    {
     "name": "stderr",
     "output_type": "stream",
     "text": [
      "WARNING: This is a development server. Do not use it in a production deployment. Use a production WSGI server instead.\n",
      " * Running on http://127.0.0.1:5000\n",
      "Press CTRL+C to quit\n",
      " * Restarting with watchdog (windowsapi)\n"
     ]
    },
    {
     "ename": "SystemExit",
     "evalue": "1",
     "output_type": "error",
     "traceback": [
      "An exception has occurred, use %tb to see the full traceback.\n",
      "\u001b[1;31mSystemExit\u001b[0m\u001b[1;31m:\u001b[0m 1\n"
     ]
    },
    {
     "name": "stderr",
     "output_type": "stream",
     "text": [
      "D:\\anaconda3\\Lib\\site-packages\\IPython\\core\\interactiveshell.py:3513: UserWarning: To exit: use 'exit', 'quit', or Ctrl-D.\n",
      "  warn(\"To exit: use 'exit', 'quit', or Ctrl-D.\", stacklevel=1)\n"
     ]
    }
   ],
   "source": [
    "# Flask\n",
    "\n",
    "from flask import Flask, render_template, jsonify\n",
    "import pandas as pd\n",
    "\n",
    "app = Flask(__name__)\n",
    "\n",
    "# 读取数据\n",
    "data = pd.read_excel('TOP250.xlsx')\n",
    "\n",
    "@app.route('/')\n",
    "def index():\n",
    "    # 数据处理\n",
    "    year = data['上映年份'].value_counts().sort_index().to_dict()\n",
    "    country_counts = data['国家/地区'].value_counts().sort_index().to_dict()\n",
    "    df = data[['片名', '评价人数']].drop_duplicates(subset='片名').sort_values(by='评价人数', ascending=False).head(20)\n",
    "    top_rated_movies = df.to_dict(orient='list')\n",
    "\n",
    "    return render_template('index.html', year=year, country_counts=country_counts, top_rated_movies=top_rated_movies)\n",
    "\n",
    "if __name__ == '__main__':\n",
    "    app.run(debug=True)\n"
   ]
  },
  {
   "cell_type": "code",
   "execution_count": null,
   "id": "1006db19",
   "metadata": {},
   "outputs": [],
   "source": []
  },
  {
   "cell_type": "code",
   "execution_count": null,
   "id": "1c57a427",
   "metadata": {},
   "outputs": [],
   "source": []
  }
 ],
 "metadata": {
  "kernelspec": {
   "display_name": "Python 3 (ipykernel)",
   "language": "python",
   "name": "python3"
  },
  "language_info": {
   "codemirror_mode": {
    "name": "ipython",
    "version": 3
   },
   "file_extension": ".py",
   "mimetype": "text/x-python",
   "name": "python",
   "nbconvert_exporter": "python",
   "pygments_lexer": "ipython3",
   "version": "3.11.4"
  }
 },
 "nbformat": 4,
 "nbformat_minor": 5
}
